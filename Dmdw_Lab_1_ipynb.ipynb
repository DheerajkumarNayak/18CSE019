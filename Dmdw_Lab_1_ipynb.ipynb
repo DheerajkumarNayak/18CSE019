{
  "nbformat": 4,
  "nbformat_minor": 0,
  "metadata": {
    "colab": {
      "name": "Dmdw_Lab_1 . ipynb",
      "provenance": [],
      "collapsed_sections": [],
      "authorship_tag": "ABX9TyNxzkZkhUaWFb0OnThAOgpS",
      "include_colab_link": true
    },
    "kernelspec": {
      "name": "python3",
      "display_name": "Python 3"
    }
  },
  "cells": [
    {
      "cell_type": "markdown",
      "metadata": {
        "id": "view-in-github",
        "colab_type": "text"
      },
      "source": [
        "<a href=\"https://colab.research.google.com/github/DheerajkumarNayak/18CSE019/blob/main/Dmdw_Lab_1_ipynb.ipynb\" target=\"_parent\"><img src=\"https://colab.research.google.com/assets/colab-badge.svg\" alt=\"Open In Colab\"/></a>"
      ]
    },
    {
      "cell_type": "code",
      "metadata": {
        "id": "7jopZi7H4eLA"
      },
      "source": [
        "import numpy as np\n",
        "from scipy import stats"
      ],
      "execution_count": null,
      "outputs": []
    },
    {
      "cell_type": "code",
      "metadata": {
        "id": "VXSIo0mu9XdE",
        "colab": {
          "base_uri": "https://localhost:8080/"
        },
        "outputId": "d90d320a-49ef-404d-8bae-d7d1cc3c2507"
      },
      "source": [
        "np.mean([1,2,3,4,5,6,7,8,13,24,35,55])"
      ],
      "execution_count": null,
      "outputs": [
        {
          "output_type": "execute_result",
          "data": {
            "text/plain": [
              "13.583333333333334"
            ]
          },
          "metadata": {
            "tags": []
          },
          "execution_count": 6
        }
      ]
    },
    {
      "cell_type": "code",
      "metadata": {
        "id": "8gnuqH1J9rET",
        "colab": {
          "base_uri": "https://localhost:8080/"
        },
        "outputId": "d187a483-66ce-4495-9ffe-b58857215cb5"
      },
      "source": [
        "np.median([1,2,3,4,5,6,7,8,13,24,35,55])\n"
      ],
      "execution_count": null,
      "outputs": [
        {
          "output_type": "execute_result",
          "data": {
            "text/plain": [
              "6.5"
            ]
          },
          "metadata": {
            "tags": []
          },
          "execution_count": 7
        }
      ]
    },
    {
      "cell_type": "code",
      "metadata": {
        "id": "7PtUq9wx9zh6",
        "colab": {
          "base_uri": "https://localhost:8080/"
        },
        "outputId": "af15c50d-4ce7-477e-a2f7-66e6c99b1fdf"
      },
      "source": [
        "stats.mode([1,1,1,2,3,4,5,6,7,8,13,24,35,55])"
      ],
      "execution_count": null,
      "outputs": [
        {
          "output_type": "execute_result",
          "data": {
            "text/plain": [
              "ModeResult(mode=array([1]), count=array([3]))"
            ]
          },
          "metadata": {
            "tags": []
          },
          "execution_count": 9
        }
      ]
    },
    {
      "cell_type": "code",
      "metadata": {
        "id": "4wK4coWS94ER"
      },
      "source": [
        "#Without useing methods"
      ],
      "execution_count": null,
      "outputs": []
    },
    {
      "cell_type": "code",
      "metadata": {
        "id": "_tu8mBmR-y-w"
      },
      "source": [
        "#Mean"
      ],
      "execution_count": null,
      "outputs": []
    },
    {
      "cell_type": "code",
      "metadata": {
        "id": "2kDg-UWJ_Qlx",
        "colab": {
          "base_uri": "https://localhost:8080/"
        },
        "outputId": "5f4bf08b-b2ba-4ea8-9911-d0d1ef6313a1"
      },
      "source": [
        "n1=[1,2,3,4,5]\n",
        "n=len(n1)\n",
        "sum1=sum(n1)\n",
        "mean=sum1/n\n",
        "print(\"Mean is : \"+str(mean))"
      ],
      "execution_count": null,
      "outputs": [
        {
          "output_type": "stream",
          "text": [
            "Mean is : 3.0\n"
          ],
          "name": "stdout"
        }
      ]
    },
    {
      "cell_type": "code",
      "metadata": {
        "id": "78gmdtwPAALY"
      },
      "source": [
        "#median"
      ],
      "execution_count": null,
      "outputs": []
    },
    {
      "cell_type": "code",
      "metadata": {
        "id": "X9dHnwjYAIVL",
        "colab": {
          "base_uri": "https://localhost:8080/"
        },
        "outputId": "5d9d72c7-7e04-4880-d8bc-3f75e9cf76c0"
      },
      "source": [
        "n1=[1,2,3,4,5]\n",
        "n=len(n1)\n",
        "n1.sort()\n",
        "if n%2==0:\n",
        "  median1=n1[n//2]\n",
        "  median2=n1[n//2-1]\n",
        "  median=(median1+median2)/2\n",
        "else:\n",
        "  median=n1[n//2]\n",
        "print(\"Median is :\"+str(median))"
      ],
      "execution_count": null,
      "outputs": [
        {
          "output_type": "stream",
          "text": [
            "Median is :3\n"
          ],
          "name": "stdout"
        }
      ]
    },
    {
      "cell_type": "code",
      "metadata": {
        "id": "_pMoHto4BLhP"
      },
      "source": [
        "# mode"
      ],
      "execution_count": null,
      "outputs": []
    },
    {
      "cell_type": "code",
      "metadata": {
        "id": "q5etlBjVBOtc"
      },
      "source": [
        "from collections import Counter"
      ],
      "execution_count": null,
      "outputs": []
    },
    {
      "cell_type": "code",
      "metadata": {
        "id": "isaWnIvDBhut",
        "colab": {
          "base_uri": "https://localhost:8080/"
        },
        "outputId": "86c5359c-fcc7-4a8f-daa3-30455f30ab19"
      },
      "source": [
        "n1=[1,2,3,4,5,5]\n",
        "n=len(n1)\n",
        "data=Counter(n1)\n",
        "get_mode=dict(data)\n",
        "mode=[k for k,v in get_mode.items() if v==max(list(data.values()))]\n",
        "if len(mode)==n:\n",
        "  get_mode=\"No mode found\"\n",
        "else:\n",
        "  get_mode=\"Mode is :\"+','.join(map(str,mode))\n",
        "print(get_mode)\n"
      ],
      "execution_count": null,
      "outputs": [
        {
          "output_type": "stream",
          "text": [
            "Mode is :5\n"
          ],
          "name": "stdout"
        }
      ]
    },
    {
      "cell_type": "code",
      "metadata": {
        "id": "HgWZjbIkCzym"
      },
      "source": [
        ""
      ],
      "execution_count": null,
      "outputs": []
    }
  ]
}